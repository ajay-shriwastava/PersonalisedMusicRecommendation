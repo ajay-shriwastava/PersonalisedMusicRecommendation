{
 "cells": [
  {
   "cell_type": "code",
   "execution_count": 13,
   "id": "0108fba9-4d96-47da-ae9c-79baaf48f16a",
   "metadata": {},
   "outputs": [
    {
     "name": "stdout",
     "output_type": "stream",
     "text": [
      "File Handle is  <class '_io.TextIOWrapper'>\n",
      "user_id,user_name\n",
      "\n",
      "1,Murthy Sir\n",
      "\n",
      "2,Sudhaji\n",
      "\n",
      "3,Rishi\n",
      "\n",
      "4,Akshata\n",
      "\n"
     ]
    }
   ],
   "source": [
    "file_object = open('../webUI/static/collab/UserList.csv', 'r')\n",
    "print(\"File Handle is \", type(file_object))\n",
    "with file_object:\n",
    "    for line in file_object:\n",
    "        print(line)\n",
    "file_object.close()"
   ]
  },
  {
   "cell_type": "code",
   "execution_count": 14,
   "id": "1d40ac29-87cf-4018-8422-438485864747",
   "metadata": {},
   "outputs": [
    {
     "name": "stdout",
     "output_type": "stream",
     "text": [
      "<class '_io.BufferedReader'>\n",
      "b'user_id,user_name\\r\\n'\n",
      "b'1,Murthy Sir\\r\\n'\n",
      "b'2,Sudhaji\\r\\n'\n",
      "b'3,Rishi\\r\\n'\n",
      "b'4,Akshata\\r\\n'\n"
     ]
    }
   ],
   "source": [
    "file_object = open('../webUI/static/collab/UserList.csv', 'rb')\n",
    "print(type(file_object))\n",
    "with file_object:\n",
    "    for line in file_object:\n",
    "        print(line)\n",
    "file_object.close()"
   ]
  },
  {
   "cell_type": "code",
   "execution_count": 8,
   "id": "fd28fe10-ce13-4bc3-a5aa-8fd9c795fca0",
   "metadata": {},
   "outputs": [
    {
     "name": "stdout",
     "output_type": "stream",
     "text": [
      "<class '_io.BufferedReader'>\n",
      "user_id,user_name\n",
      "\n",
      "1,Murthy Sir\n",
      "\n",
      "2,Sudhaji\n",
      "\n",
      "3,Rishi\n",
      "\n",
      "4,Akshata\n",
      "\n"
     ]
    }
   ],
   "source": [
    "file_object = open('../webUI/static/collab/UserList.csv', 'rb')\n",
    "print(type(file_object))\n",
    "with file_object:\n",
    "    for line in file_object:\n",
    "        print(line.decode('utf-8'))\n",
    "file_object.close()"
   ]
  },
  {
   "cell_type": "code",
   "execution_count": null,
   "id": "f192197e-1810-4f95-be93-e6d8e8f63f49",
   "metadata": {},
   "outputs": [],
   "source": []
  }
 ],
 "metadata": {
  "kernelspec": {
   "display_name": "Python 3 (ipykernel)",
   "language": "python",
   "name": "python3"
  },
  "language_info": {
   "codemirror_mode": {
    "name": "ipython",
    "version": 3
   },
   "file_extension": ".py",
   "mimetype": "text/x-python",
   "name": "python",
   "nbconvert_exporter": "python",
   "pygments_lexer": "ipython3",
   "version": "3.10.6"
  }
 },
 "nbformat": 4,
 "nbformat_minor": 5
}
