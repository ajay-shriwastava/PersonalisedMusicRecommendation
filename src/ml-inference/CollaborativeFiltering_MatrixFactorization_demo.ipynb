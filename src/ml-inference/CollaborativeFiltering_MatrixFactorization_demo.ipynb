{
 "cells": [
  {
   "cell_type": "code",
   "execution_count": 1,
   "metadata": {
    "id": "GX05fhpR6g2P"
   },
   "outputs": [],
   "source": [
    "import pandas as pd\n",
    "import numpy as np\n",
    "import matplotlib.pyplot as plt\n",
    "import seaborn as sns\n",
    "import warnings\n",
    "import os\n",
    "warnings.filterwarnings('ignore')"
   ]
  },
  {
   "cell_type": "code",
   "execution_count": 2,
   "metadata": {
    "id": "zWrn9tHY63Pk"
   },
   "outputs": [],
   "source": [
    "save_dir = \"../webUI/static/collab\"\n",
    "track_file = os.path.join(save_dir, \"IndianMusicTracks.csv\")\n",
    "user_file = os.path.join(save_dir, \"UserList.csv\")\n",
    "user_item_interactions = os.path.join(save_dir, \"user_item_interactions.csv\")"
   ]
  },
  {
   "cell_type": "code",
   "execution_count": 3,
   "metadata": {
    "id": "4f23p2ql7PXR"
   },
   "outputs": [],
   "source": [
    "track_df = pd.read_csv(track_file, index_col=0) #usecols=[\"track_id\", \"artist_name\", \"track_title\"])\n",
    "user_df = pd.read_csv(user_file, index_col=0) # usecols=[\"user_id\", \"user_name\"])\n",
    "user_item_df = pd.read_csv(user_item_interactions, index_col=0) #)"
   ]
  },
  {
   "cell_type": "code",
   "execution_count": 7,
   "metadata": {},
   "outputs": [
    {
     "name": "stdout",
     "output_type": "stream",
     "text": [
      "<class 'pandas.core.series.Series'>\n"
     ]
    }
   ],
   "source": [
    "print(type(user_item_df.iloc[0]))"
   ]
  },
  {
   "cell_type": "code",
   "execution_count": 4,
   "metadata": {
    "id": "vSEj0K1o8F8h"
   },
   "outputs": [],
   "source": [
    "# get the user_item interaction matrix in numpy form\n",
    "user_item_matrix = user_item_df.to_numpy()"
   ]
  },
  {
   "cell_type": "code",
   "execution_count": 5,
   "metadata": {
    "id": "WXU0Xk-v9LfP"
   },
   "outputs": [],
   "source": [
    "# Get the SVD decomposition of the user_item_matrix, with matrix of user vectors represented by P\n",
    "# and matrix of item vectors represented by Q\n",
    "\n",
    "P, S, Qh = np.linalg.svd(user_item_matrix)"
   ]
  },
  {
   "cell_type": "code",
   "execution_count": 6,
   "metadata": {
    "colab": {
     "base_uri": "https://localhost:8080/"
    },
    "executionInfo": {
     "elapsed": 7,
     "status": "ok",
     "timestamp": 1731747083641,
     "user": {
      "displayName": "Karthik P",
      "userId": "05984280602204072699"
     },
     "user_tz": -330
    },
    "id": "ScspAUVg9P83",
    "outputId": "f28b0338-c159-4132-95e6-7091d49e339e"
   },
   "outputs": [
    {
     "data": {
      "text/plain": [
       "array([[1., 0., 0., 0.],\n",
       "       [0., 1., 0., 0.],\n",
       "       [0., 0., 1., 0.],\n",
       "       [0., 0., 0., 1.]])"
      ]
     },
     "execution_count": 6,
     "metadata": {},
     "output_type": "execute_result"
    }
   ],
   "source": [
    "P"
   ]
  },
  {
   "cell_type": "code",
   "execution_count": 7,
   "metadata": {
    "colab": {
     "base_uri": "https://localhost:8080/"
    },
    "executionInfo": {
     "elapsed": 7,
     "status": "ok",
     "timestamp": 1731747083641,
     "user": {
      "displayName": "Karthik P",
      "userId": "05984280602204072699"
     },
     "user_tz": -330
    },
    "id": "BrYSebD0-X7H",
    "outputId": "11ef71b6-678e-479b-e248-b3b1658b250f"
   },
   "outputs": [
    {
     "data": {
      "text/plain": [
       "(12, 12)"
      ]
     },
     "execution_count": 7,
     "metadata": {},
     "output_type": "execute_result"
    }
   ],
   "source": [
    "Qh.shape"
   ]
  },
  {
   "cell_type": "code",
   "execution_count": 8,
   "metadata": {
    "colab": {
     "base_uri": "https://localhost:8080/"
    },
    "executionInfo": {
     "elapsed": 6,
     "status": "ok",
     "timestamp": 1731747083641,
     "user": {
      "displayName": "Karthik P",
      "userId": "05984280602204072699"
     },
     "user_tz": -330
    },
    "id": "w-w2gDEa-ZOS",
    "outputId": "e047471f-8f9f-467f-b757-cb45c0170959"
   },
   "outputs": [
    {
     "data": {
      "text/plain": [
       "array([1.73205081, 1.73205081, 1.73205081, 1.73205081])"
      ]
     },
     "execution_count": 8,
     "metadata": {},
     "output_type": "execute_result"
    }
   ],
   "source": [
    "S"
   ]
  },
  {
   "cell_type": "code",
   "execution_count": 9,
   "metadata": {
    "colab": {
     "base_uri": "https://localhost:8080/"
    },
    "executionInfo": {
     "elapsed": 5,
     "status": "ok",
     "timestamp": 1731747083641,
     "user": {
      "displayName": "Karthik P",
      "userId": "05984280602204072699"
     },
     "user_tz": -330
    },
    "id": "N0aVVggh-e_z",
    "outputId": "e7cdb2a2-ae1f-4842-b38b-33107673f67d"
   },
   "outputs": [
    {
     "name": "stdout",
     "output_type": "stream",
     "text": [
      "[[1. 1. 1. 0. 0. 0. 0. 0. 0. 0. 0. 0.]\n",
      " [0. 0. 0. 1. 1. 1. 0. 0. 0. 0. 0. 0.]\n",
      " [0. 0. 0. 0. 0. 0. 1. 1. 1. 0. 0. 0.]\n",
      " [0. 0. 0. 0. 0. 0. 0. 0. 0. 1. 1. 1.]]\n"
     ]
    }
   ],
   "source": [
    "# find the mtrix product of P, diag(S) and Qh\n",
    "\n",
    "print(np.matmul(np.matmul(P, np.diag(S)), Qh[:4,:]))"
   ]
  },
  {
   "cell_type": "code",
   "execution_count": 10,
   "metadata": {
    "colab": {
     "base_uri": "https://localhost:8080/"
    },
    "executionInfo": {
     "elapsed": 4,
     "status": "ok",
     "timestamp": 1731747083641,
     "user": {
      "displayName": "Karthik P",
      "userId": "05984280602204072699"
     },
     "user_tz": -330
    },
    "id": "ju4-o4Th_Mce",
    "outputId": "c83ac68f-ebf7-45b1-f11f-76dc3824491d"
   },
   "outputs": [
    {
     "data": {
      "text/plain": [
       "array([[ 0.57735027,  0.57735027,  0.57735027,  0.        ],\n",
       "       [ 0.        ,  0.        ,  0.        ,  0.57735027],\n",
       "       [ 0.        ,  0.        ,  0.        ,  0.        ],\n",
       "       [ 0.        ,  0.        ,  0.        ,  0.        ],\n",
       "       [ 0.33333333, -0.4553418 ,  0.12200847, -0.33333333],\n",
       "       [ 0.33333333, -0.4553418 ,  0.12200847, -0.33333333],\n",
       "       [ 0.33333333,  0.12200847, -0.4553418 ,  0.        ],\n",
       "       [ 0.33333333,  0.12200847, -0.4553418 ,  0.        ],\n",
       "       [ 0.33333333,  0.12200847, -0.4553418 ,  0.        ],\n",
       "       [-0.19245009,  0.26289171, -0.07044162, -0.38490018],\n",
       "       [-0.19245009,  0.26289171, -0.07044162, -0.38490018],\n",
       "       [-0.19245009,  0.26289171, -0.07044162, -0.38490018]])"
      ]
     },
     "execution_count": 10,
     "metadata": {},
     "output_type": "execute_result"
    }
   ],
   "source": [
    "Qh[:,:4]"
   ]
  },
  {
   "cell_type": "code",
   "execution_count": 12,
   "metadata": {
    "id": "K7AGExyLAIHz"
   },
   "outputs": [],
   "source": [
    "# Find the cosine similarity for any song index, by using values of the Q vector upto a certain rank (default 4)\n",
    "\n",
    "def cosine_similarity(Qh, song_index, rank=12, n_recommendations=3):\n",
    "  q = Qh[:rank, song_index]\n",
    "  q_norm = np.linalg.norm(q)\n",
    "  q = q / q_norm\n",
    "\n",
    "  Q_temp = Qh[:rank, :].T\n",
    "  Q_temp_norm = np.linalg.norm(Q_temp, axis=1)\n",
    "  # Normalize every row of Qh\n",
    "  Q_temp = Q_temp / Q_temp_norm[:, None]\n",
    "\n",
    "  cs_vector = np.dot(Q_temp, q)\n",
    "  print(cs_vector)\n",
    "  # sort cs_vector in ascending order and return the indices\n",
    "  print(np.argsort(cs_vector)[-1:0:-1][0:n_recommendations])\n",
    "  return np.argsort(cs_vector)[-1:0:-1][0:n_recommendations]"
   ]
  },
  {
   "cell_type": "code",
   "execution_count": 13,
   "metadata": {
    "colab": {
     "base_uri": "https://localhost:8080/"
    },
    "executionInfo": {
     "elapsed": 375,
     "status": "ok",
     "timestamp": 1731747106913,
     "user": {
      "displayName": "Karthik P",
      "userId": "05984280602204072699"
     },
     "user_tz": -330
    },
    "id": "EG5K6XE8BaSD",
    "outputId": "28d08c45-3e74-456b-e5cf-f6c0f962ea08"
   },
   "outputs": [
    {
     "name": "stdout",
     "output_type": "stream",
     "text": [
      "artist_name                            Saints\n",
      "track_title    When the Saints go Marching In\n",
      "Name: 9, dtype: object\n",
      "[0. 0. 0. 0. 0. 0. 1. 1. 1. 0. 0. 0.]\n",
      "[8 7 6]\n",
      "           artist_name                     track_title\n",
      "track_id                                              \n",
      "9               Saints  When the Saints go Marching In\n",
      "8         Taylor Swift                    Cruel Summer\n",
      "7          The Beatles                       Let it be\n"
     ]
    }
   ],
   "source": [
    "song_index = 8\n",
    "rank = 4\n",
    "\n",
    "print(track_df.iloc[song_index])\n",
    "print(track_df.iloc[cosine_similarity(Qh, song_index, rank)])\n",
    "#"
   ]
  },
  {
   "cell_type": "code",
   "execution_count": null,
   "metadata": {},
   "outputs": [],
   "source": []
  }
 ],
 "metadata": {
  "colab": {
   "provenance": [
    {
     "file_id": "1phqcxdJnzWvaEINz5NnApStO2rJOeylX",
     "timestamp": 1731824740816
    }
   ]
  },
  "kernelspec": {
   "display_name": "Python 3 (ipykernel)",
   "language": "python",
   "name": "python3"
  },
  "language_info": {
   "codemirror_mode": {
    "name": "ipython",
    "version": 3
   },
   "file_extension": ".py",
   "mimetype": "text/x-python",
   "name": "python",
   "nbconvert_exporter": "python",
   "pygments_lexer": "ipython3",
   "version": "3.10.6"
  }
 },
 "nbformat": 4,
 "nbformat_minor": 4
}
