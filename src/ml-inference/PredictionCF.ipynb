{
 "cells": [
  {
   "cell_type": "code",
   "execution_count": 137,
   "id": "05211c25-3619-4da1-808e-aa3a8420943f",
   "metadata": {},
   "outputs": [],
   "source": [
    "import os\n",
    "import numpy as np\n",
    "import pandas as pd"
   ]
  },
  {
   "cell_type": "code",
   "execution_count": 4,
   "id": "515acd8a-a936-40cb-85ea-5345d3a4a807",
   "metadata": {},
   "outputs": [],
   "source": [
    "    def load_ratings(dataset_name):\n",
    "        base_dir = '../webUI/static'\n",
    "        save_dir = os.path.join(base_dir, dataset_name)\n",
    "        ratings_file = os.path.join(save_dir, 'input.csv')\n",
    "        ratings = pd.read_csv(ratings_file)\n",
    "        return ratings"
   ]
  },
  {
   "cell_type": "code",
   "execution_count": 5,
   "id": "a35d7e13-2d8b-4b55-8e36-944e3fe58b73",
   "metadata": {},
   "outputs": [],
   "source": [
    "df = load_ratings(\"ml-10k\")\n",
    "np_ratings = df.to_numpy()"
   ]
  },
  {
   "cell_type": "code",
   "execution_count": 6,
   "id": "dd28c012-288f-4e7d-a2fd-e6a19829def7",
   "metadata": {},
   "outputs": [],
   "source": [
    "    def load_similarities(dataset_name, k=20):\n",
    "        base_dir = '../webUI/static'\n",
    "        save_dir = os.path.join(base_dir, dataset_name)\n",
    "        similiraties_file = os.path.join(save_dir, 'similarities.npy')\n",
    "        neighbors_file = os.path.join(save_dir, 'neighbors.npy')\n",
    "        similarities = np.load(similiraties_file)\n",
    "        neighbors = np.load(neighbors_file)\n",
    "        return similarities[:,:k], neighbors[:,:k]"
   ]
  },
  {
   "cell_type": "code",
   "execution_count": 7,
   "id": "26706648-99aa-4442-949f-b18835730284",
   "metadata": {},
   "outputs": [],
   "source": [
    "similarities, neighbors = load_similarities(\"ml-10k\")"
   ]
  },
  {
   "cell_type": "code",
   "execution_count": 8,
   "id": "f67b4d35-7b4c-42c9-b89b-ce3a397d97ac",
   "metadata": {},
   "outputs": [],
   "source": [
    "    def load_item_to_index(dataset_name):\n",
    "        base_dir = '../webUI/static'\n",
    "        save_dir = os.path.join(base_dir, dataset_name)\n",
    "        item_to_index_file = os.path.join(save_dir, 'item_to_index.txt')\n",
    "        item_to_index = {}\n",
    "        with open(item_to_index_file, 'r') as f:\n",
    "            for line in f:\n",
    "                 (key, val) = line.split(':')\n",
    "                 item_to_index[key] = int(val)\n",
    "\n",
    "        return item_to_index"
   ]
  },
  {
   "cell_type": "code",
   "execution_count": 9,
   "id": "fdbe7632-a302-4d0d-8eeb-7844b90fa716",
   "metadata": {},
   "outputs": [],
   "source": [
    "item_to_index = load_item_to_index(\"ml-10k\")"
   ]
  },
  {
   "cell_type": "code",
   "execution_count": 10,
   "id": "73699cf2-ea25-48a7-abb3-16afc9413f10",
   "metadata": {},
   "outputs": [],
   "source": [
    "    def load_unique_users(dataset_name):\n",
    "        base_dir = '../webUI/static'\n",
    "        save_dir = os.path.join(base_dir, dataset_name)\n",
    "        unique_users_file = os.path.join(save_dir, 'unique_user_ids.txt')\n",
    "        unique_users = []\n",
    "        with open(unique_users_file, 'r') as f:\n",
    "            for line in f:\n",
    "                unique_users.append(line.strip())\n",
    "        return unique_users"
   ]
  },
  {
   "cell_type": "code",
   "execution_count": 11,
   "id": "ea60b8de-93e7-4983-9b58-9ded1e2bb20d",
   "metadata": {},
   "outputs": [],
   "source": [
    "userids = load_unique_users(\"ml-10k\")"
   ]
  },
  {
   "cell_type": "code",
   "execution_count": 12,
   "id": "463b7041-1085-413a-8faa-c1014a401169",
   "metadata": {},
   "outputs": [
    {
     "name": "stdout",
     "output_type": "stream",
     "text": [
      "['17291429.0', '23573258.0', '26432623.0', '52793396.0', '53633605.0', '55012109.0', '57226048.0', '58937384.0', '67057254.0', '67057735.0', '74488735.0', '76019825.0', '83578673.0', '93769355.0', '96787900.0', '103920991.0', '108653825.0', '109622737.0', '116373079.0', '118840122.0', '132482584.0', '142843689.0', '147606305.0', '156934864.0', '160874621.0', '161262801.0', '162378039.0', '174194590.0', '174228242.0', '174626103.0', '193359259.0', '199729912.0', '210650161.0', '216459207.0', '222887239.0', '225954017.0', '248298308.0', '248957242.0', '258435110.0', '262903158.0', '267419726.0', '281416109.0', '293450741.0', '302244949.0', '303440603.0', '304057912.0', '325251614.0', '356600138.0', '388340618.0', '393912760.0', '410479725.0', '422939499.0', '450221005.0']\n"
     ]
    }
   ],
   "source": [
    "print(userids)"
   ]
  },
  {
   "cell_type": "code",
   "execution_count": 13,
   "id": "54f3ab2b-78bf-4932-a566-b68ad02c588e",
   "metadata": {},
   "outputs": [],
   "source": [
    "    def candidate_items(userid):\n",
    "        \"\"\"\n",
    "        :param userid : user id for which we wish to find candidate items\n",
    "        :return : I_u, candidates\n",
    "        \"\"\"\n",
    "        # 1. Finding the set I_u of items already rated by user userid\n",
    "        I_u = np_ratings[np_ratings[:, 0] == userid]\n",
    "        I_u = I_u[:, 1]\n",
    "\n",
    "        # 2. Taking the union of similar items for all items in I_u to form the set of candidate items\n",
    "        c = set()\n",
    "        for iid in I_u:\n",
    "            #get index of iid\n",
    "            title_index = item_to_index[iid]\n",
    "            # add the neighbors of item iid in the set of candidate items\n",
    "            c.update(neighbors[title_index])\n",
    "\n",
    "        c = list(c)\n",
    "        # 3. exclude from the set C all items in I_u.\n",
    "        candidates = np.setdiff1d(c, I_u, assume_unique=True)\n",
    "\n",
    "        return I_u, candidates"
   ]
  },
  {
   "cell_type": "code",
   "execution_count": 14,
   "id": "3317df7d-de50-46f0-b46f-75eb5a4ed99f",
   "metadata": {},
   "outputs": [],
   "source": [
    "    def similarity_with_Iu(c, I_u):\n",
    "        \"\"\"\n",
    "        compute similarity between an item c and a set of items I_u. For each item i in I_u, get similarity between\n",
    "        i and c, if c exists in the set of items similar to itemid.\n",
    "        :param c : itemid of a candidate item\n",
    "        :param I_u : set of items already purchased by a given user\n",
    "        :return w : similarity between c and I_u\n",
    "        \"\"\"\n",
    "        w = 0\n",
    "        for iid in I_u :\n",
    "            # get similarity between itemid and c, if c is one of the k nearest neighbors of itemid\n",
    "            title_index = item_to_index[iid]\n",
    "            if c in neighbors[title_index] :\n",
    "                w = w + similarities[title_index, neighbors[title_index] == c][0]\n",
    "        return w"
   ]
  },
  {
   "cell_type": "code",
   "execution_count": 15,
   "id": "4dd66aca-2052-4b89-bf93-b9d859f86610",
   "metadata": {},
   "outputs": [],
   "source": [
    "    def rank_candidates(candidates, I_u):\n",
    "        \"\"\"\n",
    "        rank candidate items according to their similarities with i_u\n",
    "        :param candidates : list of candidate items\n",
    "        :param I_u : list of items purchased by the user\n",
    "        :return ranked_candidates : dataframe of candidate items, ranked in descending order of similarities with I_u\n",
    "        \"\"\"\n",
    "\n",
    "        # list of candidate items mapped to their corresponding similarities to I_u\n",
    "        sims = [similarity_with_Iu(c, I_u) for c in candidates]\n",
    "        mapping = list(zip(candidates, sims))\n",
    "\n",
    "        ranked_candidates = sorted(mapping, key=lambda couple:couple[1], reverse=True)\n",
    "        return ranked_candidates"
   ]
  },
  {
   "cell_type": "code",
   "execution_count": 19,
   "id": "bffa6f62-c8ca-470a-bb1b-907fdd43921c",
   "metadata": {},
   "outputs": [],
   "source": [
    "    def topn_recommendation(userid, N=15):\n",
    "        \"\"\"\n",
    "        Produce top-N recommendation for a given user\n",
    "        :param userid : user for which we produce top-N recommendation\n",
    "        :param n : length of the top-N recommendation list\n",
    "        :return topn\n",
    "        \"\"\"\n",
    "        # find candidate items\n",
    "        I_u, candidates = candidate_items(userid)\n",
    "\n",
    "        # rank candidate items according to their similarities with I_u\n",
    "        ranked_candidates = rank_candidates(candidates, I_u)\n",
    "\n",
    "        # get the first N row of ranked_candidates to build the top N recommendation list\n",
    "        topn = pd.DataFrame(ranked_candidates[:N], columns=['itemid','similarity_with_Iu'])\n",
    "        df_item_index1 = pd.DataFrame(list(item_to_index.items()), columns=['track_title', 'itemid'])\n",
    "        topn = pd.merge(topn, df_item_index1, on='itemid', how='inner')\n",
    "        return topn"
   ]
  },
  {
   "cell_type": "code",
   "execution_count": 20,
   "id": "a7a8e159-2400-4483-8910-041d12abd22d",
   "metadata": {},
   "outputs": [],
   "source": [
    "result = topn_recommendation(float(userids[0]), 15)"
   ]
  },
  {
   "cell_type": "code",
   "execution_count": 21,
   "id": "cc7f4086-70f9-4074-a0a9-02fc80918efc",
   "metadata": {},
   "outputs": [
    {
     "name": "stdout",
     "output_type": "stream",
     "text": [
      "<class 'pandas.core.frame.DataFrame'>\n"
     ]
    }
   ],
   "source": [
    "print(type(result))"
   ]
  },
  {
   "cell_type": "code",
   "execution_count": 22,
   "id": "1c170683-08ac-47af-9aa6-adc679173cc5",
   "metadata": {},
   "outputs": [
    {
     "name": "stdout",
     "output_type": "stream",
     "text": [
      "<class 'pandas.core.frame.DataFrame'>\n",
      "Int64Index: 15 entries, 0 to 14\n",
      "Data columns (total 3 columns):\n",
      " #   Column              Non-Null Count  Dtype  \n",
      "---  ------              --------------  -----  \n",
      " 0   itemid              15 non-null     int64  \n",
      " 1   similarity_with_Iu  15 non-null     float64\n",
      " 2   track_title         15 non-null     object \n",
      "dtypes: float64(1), int64(1), object(1)\n",
      "memory usage: 480.0+ bytes\n",
      "None\n"
     ]
    }
   ],
   "source": [
    "print(result.info())"
   ]
  },
  {
   "cell_type": "code",
   "execution_count": 27,
   "id": "17bcddf3-7727-4f59-b9ae-d833c7d8ece5",
   "metadata": {},
   "outputs": [
    {
     "name": "stdout",
     "output_type": "stream",
     "text": [
      "2258 1.7891672158666703 Next to Me\n",
      "1107 0.9999999999999999 Gambling Man\n",
      "2900 0.9999999999999998 Somebody That I Used to Know\n",
      "854 0.9955795027140815 Drunk\n",
      "2087 0.9922778767136677 Melancholy Sky\n",
      "612 0.9899494936611665 Commander\n",
      "1420 0.9852117548196744 I Don't Dance\n",
      "2966 0.9847835588179368 Standing Still\n",
      "847 0.9805806756909201 Driving home for Christmas\n",
      "473 0.9757162520935707 Burn It Down\n",
      "3484 0.9747323185282745 V.E.N.O.M\n",
      "384 0.9647638212377322 Blue Cassette\n",
      "2329 0.9595689816501457 Nur noch kurz die Welt retten\n",
      "677 0.9486832980505138 Dancing in the Dark\n",
      "682 0.9486832980505138 Danza kuduro\n"
     ]
    }
   ],
   "source": [
    "for index, row in result.iterrows():\n",
    "    print(row['itemid'], row['similarity_with_Iu'], row['track_title'])\n",
    "    "
   ]
  },
  {
   "cell_type": "code",
   "execution_count": null,
   "id": "a4759718-3746-4b8d-b989-3e0802f3113e",
   "metadata": {},
   "outputs": [],
   "source": []
  }
 ],
 "metadata": {
  "kernelspec": {
   "display_name": "Python 3 (ipykernel)",
   "language": "python",
   "name": "python3"
  },
  "language_info": {
   "codemirror_mode": {
    "name": "ipython",
    "version": 3
   },
   "file_extension": ".py",
   "mimetype": "text/x-python",
   "name": "python",
   "nbconvert_exporter": "python",
   "pygments_lexer": "ipython3",
   "version": "3.10.6"
  }
 },
 "nbformat": 4,
 "nbformat_minor": 5
}
